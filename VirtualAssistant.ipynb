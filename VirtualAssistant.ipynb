{
  "nbformat": 4,
  "nbformat_minor": 0,
  "metadata": {
    "colab": {
      "provenance": []
    },
    "kernelspec": {
      "name": "python3",
      "display_name": "Python 3"
    },
    "language_info": {
      "name": "python"
    }
  },
  "cells": [
    {
      "cell_type": "code",
      "execution_count": null,
      "metadata": {
        "id": "dk17a_T3MEyQ"
      },
      "outputs": [],
      "source": [
        "!pip install SpeechRecognition\n",
        "!pip install pyaudio\n",
        "!pip install gTTS\n",
        "!pip install wikipedia\n",
        "!pip install geopy\n"
      ]
    },
    {
      "cell_type": "code",
      "source": [
        "import speech_recognition as sr\n",
        "import webbrowser\n",
        "import wikipedia\n",
        "from gtts import gTTS\n",
        "from geopy.geocoders import Nominatim\n",
        "import os\n"
      ],
      "metadata": {
        "id": "paYGxYvnMJt-"
      },
      "execution_count": null,
      "outputs": []
    },
    {
      "cell_type": "code",
      "source": [
        "r = sr.Recognizer()\n"
      ],
      "metadata": {
        "id": "2FjqubbqMMQM"
      },
      "execution_count": null,
      "outputs": []
    },
    {
      "cell_type": "code",
      "source": [
        "def text_to_speech(text):\n",
        "    tts = gTTS(text)\n",
        "    tts.save(\"output.mp3\")\n",
        "    os.system(\"mpg321 output.mp3\")\n"
      ],
      "metadata": {
        "id": "qCCRqcIXMPq5"
      },
      "execution_count": null,
      "outputs": []
    },
    {
      "cell_type": "code",
      "source": [
        "def virtual_assistant():\n",
        "    with sr.Microphone() as source:\n",
        "        print(\"Listening...\")\n",
        "        try:\n",
        "            audio = r.listen(source, timeout=5)\n",
        "            print(\"Recognizing...\")\n",
        "            text = r.recognize_google(audio)\n",
        "            print(\"You said:\", text)\n",
        "\n",
        "            # Check for specific voice commands\n",
        "            if \"open Wikipedia\" in text:\n",
        "                text_to_speech(\"Opening Wikipedia...\")\n",
        "                webbrowser.open(\"https://www.wikipedia.org/\")\n",
        "            elif \"open YouTube\" in text:\n",
        "                text_to_speech(\"Opening YouTube...\")\n",
        "                webbrowser.open(\"https://www.youtube.com/\")\n",
        "            elif \"find nearest pharmacy\" in text:\n",
        "                geolocator = Nominatim(user_agent=\"geoapi\")\n",
        "                location = geolocator.geocode(\"pharmacy\")\n",
        "                if location:\n",
        "                    pharmacy_location = f\"The nearest pharmacy is located at latitude {location.latitude} and longitude {location.longitude}.\"\n",
        "                    text_to_speech(pharmacy_location)\n",
        "                else:\n",
        "                    text_to_speech(\"Sorry, I couldn't find any nearby pharmacies.\")\n",
        "        except sr.WaitTimeoutError:\n",
        "            print(\"No speech detected within the timeout.\")\n",
        "        except sr.UnknownValueError:\n",
        "            print(\"Sorry, I could not understand what you said.\")\n",
        "        except sr.RequestError as e:\n",
        "            print(f\"Could not request results; {e}\")\n"
      ],
      "metadata": {
        "id": "PyK_PzagMR9P"
      },
      "execution_count": null,
      "outputs": []
    },
    {
      "cell_type": "code",
      "source": [
        "virtual_assistant()\n"
      ],
      "metadata": {
        "id": "iISGaHXZMUiV"
      },
      "execution_count": null,
      "outputs": []
    }
  ]
}